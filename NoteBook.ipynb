{
 "cells": [
  {
   "cell_type": "markdown",
   "id": "2335bf09",
   "metadata": {},
   "source": [
    "### `Import main Libraries and Frameworks`"
   ]
  },
  {
   "cell_type": "code",
   "execution_count": 34,
   "id": "3500decc",
   "metadata": {},
   "outputs": [],
   "source": [
    "## main libraries\n",
    "import numpy as np\n",
    "import pandas as pd\n",
    "import matplotlib.pyplot as plt\n",
    "%matplotlib inline\n",
    "import seaborn as sns\n",
    "from scipy.stats import boxcox\n",
    "plt.style.use('ggplot')\n",
    "import joblib\n",
    "\n",
    "## for preprocessing and preparing\n",
    "from sklearn.model_selection import train_test_split\n",
    "from sklearn.model_selection import cross_val_score, GridSearchCV\n",
    "from sklearn.preprocessing import StandardScaler, MinMaxScaler\n",
    "from sklearn.metrics import r2_score\n",
    "from sklearn import utils\n",
    "\n",
    "## Models -- sklearn\n",
    "from sklearn.linear_model import LinearRegression, SGDRegressor\n",
    "from sklearn.neighbors import KNeighborsRegressor\n",
    "from sklearn.ensemble import RandomForestRegressor\n",
    "\n",
    "## Models -- Xgboost\n",
    "from xgboost import XGBRegressor"
   ]
  },
  {
   "cell_type": "markdown",
   "id": "0af87fbf",
   "metadata": {},
   "source": [
    "### `Reading the Dataset and Look at the big Picture`"
   ]
  },
  {
   "cell_type": "code",
   "execution_count": 2,
   "id": "4c177df8",
   "metadata": {},
   "outputs": [
    {
     "data": {
      "text/html": [
       "<div>\n",
       "<style scoped>\n",
       "    .dataframe tbody tr th:only-of-type {\n",
       "        vertical-align: middle;\n",
       "    }\n",
       "\n",
       "    .dataframe tbody tr th {\n",
       "        vertical-align: top;\n",
       "    }\n",
       "\n",
       "    .dataframe thead th {\n",
       "        text-align: right;\n",
       "    }\n",
       "</style>\n",
       "<table border=\"1\" class=\"dataframe\">\n",
       "  <thead>\n",
       "    <tr style=\"text-align: right;\">\n",
       "      <th></th>\n",
       "      <th>DELTA</th>\n",
       "      <th>AGE</th>\n",
       "      <th>FC%</th>\n",
       "      <th>LC(ft/mile)</th>\n",
       "      <th>TC(ft/mile)</th>\n",
       "      <th>RUT(in)</th>\n",
       "    </tr>\n",
       "  </thead>\n",
       "  <tbody>\n",
       "    <tr>\n",
       "      <th>0</th>\n",
       "      <td>0.377953</td>\n",
       "      <td>1.10</td>\n",
       "      <td>0.000000</td>\n",
       "      <td>0.00000</td>\n",
       "      <td>0.000000</td>\n",
       "      <td>0.15748</td>\n",
       "    </tr>\n",
       "    <tr>\n",
       "      <th>1</th>\n",
       "      <td>1.448819</td>\n",
       "      <td>1.48</td>\n",
       "      <td>0.000000</td>\n",
       "      <td>0.00000</td>\n",
       "      <td>0.000000</td>\n",
       "      <td>0.15748</td>\n",
       "    </tr>\n",
       "    <tr>\n",
       "      <th>2</th>\n",
       "      <td>2.519685</td>\n",
       "      <td>1.94</td>\n",
       "      <td>0.000000</td>\n",
       "      <td>0.00000</td>\n",
       "      <td>0.000000</td>\n",
       "      <td>0.15748</td>\n",
       "    </tr>\n",
       "    <tr>\n",
       "      <th>3</th>\n",
       "      <td>3.338583</td>\n",
       "      <td>2.40</td>\n",
       "      <td>0.000000</td>\n",
       "      <td>0.00000</td>\n",
       "      <td>0.000000</td>\n",
       "      <td>0.15748</td>\n",
       "    </tr>\n",
       "    <tr>\n",
       "      <th>4</th>\n",
       "      <td>3.590551</td>\n",
       "      <td>2.86</td>\n",
       "      <td>0.073099</td>\n",
       "      <td>24.17461</td>\n",
       "      <td>10.360547</td>\n",
       "      <td>0.19685</td>\n",
       "    </tr>\n",
       "  </tbody>\n",
       "</table>\n",
       "</div>"
      ],
      "text/plain": [
       "      DELTA   AGE       FC%  LC(ft/mile)  TC(ft/mile)  RUT(in)\n",
       "0  0.377953  1.10  0.000000      0.00000     0.000000  0.15748\n",
       "1  1.448819  1.48  0.000000      0.00000     0.000000  0.15748\n",
       "2  2.519685  1.94  0.000000      0.00000     0.000000  0.15748\n",
       "3  3.338583  2.40  0.000000      0.00000     0.000000  0.15748\n",
       "4  3.590551  2.86  0.073099     24.17461    10.360547  0.19685"
      ]
     },
     "execution_count": 2,
     "metadata": {},
     "output_type": "execute_result"
    }
   ],
   "source": [
    "## Reading the Dataset\n",
    "df = pd.read_excel('file.xlsx', sheet_name='Sheet1')\n",
    "df.head()"
   ]
  },
  {
   "cell_type": "code",
   "execution_count": 3,
   "id": "14488f6e",
   "metadata": {},
   "outputs": [
    {
     "data": {
      "text/html": [
       "<div>\n",
       "<style scoped>\n",
       "    .dataframe tbody tr th:only-of-type {\n",
       "        vertical-align: middle;\n",
       "    }\n",
       "\n",
       "    .dataframe tbody tr th {\n",
       "        vertical-align: top;\n",
       "    }\n",
       "\n",
       "    .dataframe thead th {\n",
       "        text-align: right;\n",
       "    }\n",
       "</style>\n",
       "<table border=\"1\" class=\"dataframe\">\n",
       "  <thead>\n",
       "    <tr style=\"text-align: right;\">\n",
       "      <th></th>\n",
       "      <th>DELTA</th>\n",
       "      <th>AGE</th>\n",
       "      <th>FC%</th>\n",
       "      <th>LC(ft/mile)</th>\n",
       "      <th>TC(ft/mile)</th>\n",
       "      <th>RUT(in)</th>\n",
       "    </tr>\n",
       "  </thead>\n",
       "  <tbody>\n",
       "    <tr>\n",
       "      <th>1584</th>\n",
       "      <td>1.385827</td>\n",
       "      <td>3.99</td>\n",
       "      <td>0.000000</td>\n",
       "      <td>0.000000</td>\n",
       "      <td>0.0000</td>\n",
       "      <td>0.157480</td>\n",
       "    </tr>\n",
       "    <tr>\n",
       "      <th>249</th>\n",
       "      <td>28.976378</td>\n",
       "      <td>13.46</td>\n",
       "      <td>10.295164</td>\n",
       "      <td>7431.965741</td>\n",
       "      <td>1806.1887</td>\n",
       "      <td>0.236220</td>\n",
       "    </tr>\n",
       "    <tr>\n",
       "      <th>1142</th>\n",
       "      <td>6.488189</td>\n",
       "      <td>3.39</td>\n",
       "      <td>0.000000</td>\n",
       "      <td>0.000000</td>\n",
       "      <td>0.0000</td>\n",
       "      <td>0.157480</td>\n",
       "    </tr>\n",
       "    <tr>\n",
       "      <th>809</th>\n",
       "      <td>0.125984</td>\n",
       "      <td>0.85</td>\n",
       "      <td>0.000000</td>\n",
       "      <td>0.000000</td>\n",
       "      <td>0.0000</td>\n",
       "      <td>0.078740</td>\n",
       "    </tr>\n",
       "    <tr>\n",
       "      <th>657</th>\n",
       "      <td>7.622047</td>\n",
       "      <td>0.62</td>\n",
       "      <td>0.000000</td>\n",
       "      <td>0.000000</td>\n",
       "      <td>0.0000</td>\n",
       "      <td>0.590551</td>\n",
       "    </tr>\n",
       "  </tbody>\n",
       "</table>\n",
       "</div>"
      ],
      "text/plain": [
       "          DELTA    AGE        FC%  LC(ft/mile)  TC(ft/mile)   RUT(in)\n",
       "1584   1.385827   3.99   0.000000     0.000000       0.0000  0.157480\n",
       "249   28.976378  13.46  10.295164  7431.965741    1806.1887  0.236220\n",
       "1142   6.488189   3.39   0.000000     0.000000       0.0000  0.157480\n",
       "809    0.125984   0.85   0.000000     0.000000       0.0000  0.078740\n",
       "657    7.622047   0.62   0.000000     0.000000       0.0000  0.590551"
      ]
     },
     "execution_count": 3,
     "metadata": {},
     "output_type": "execute_result"
    }
   ],
   "source": [
    "## Shuffling the Dataset to split randomly --> helping the model training \n",
    "df = utils.shuffle(df, random_state=123)\n",
    "df.head()"
   ]
  },
  {
   "cell_type": "markdown",
   "id": "74395362",
   "metadata": {},
   "source": [
    "### `Exploring the Dataset and Feature Engineering`"
   ]
  },
  {
   "cell_type": "code",
   "execution_count": 4,
   "id": "cbf42844",
   "metadata": {},
   "outputs": [],
   "source": [
    "## take a copy from the main DataFrame for changing of Feature Engineering\n",
    "df_new = df.copy()"
   ]
  },
  {
   "cell_type": "markdown",
   "id": "22b9c60d",
   "metadata": {},
   "source": [
    "`Explore the (DELTA) Column (target)`"
   ]
  },
  {
   "cell_type": "code",
   "execution_count": 5,
   "id": "bded3e02",
   "metadata": {
    "scrolled": false
   },
   "outputs": [
    {
     "data": {
      "image/png": "[encoded data removed]",
      "text/plain": [
       "<Figure size 576x432 with 1 Axes>"
      ]
     },
     "metadata": {},
     "output_type": "display_data"
    }
   ],
   "source": [
    "## Explore the Target\n",
    "plt.figure(figsize=(8, 6))\n",
    "sns.histplot(x='DELTA', data=df, bins=20, kde=True)\n",
    "plt.xlabel('DELTA', fontsize=14, color='k')\n",
    "plt.ylabel('Frequency', fontsize=14, color='k')\n",
    "plt.title('Histogram of DELTA (target) in The Dataset', fontsize=14, color='k')\n",
    "plt.show()"
   ]
  },
  {
   "cell_type": "markdown",
   "id": "6296ce19",
   "metadata": {},
   "source": [
    ">`It seems that it takes (exponential Distribution) -- it is preferable to take the log, but the column contanis zeros so we will take log(value + 1)`"
   ]
  },
  {
   "cell_type": "code",
   "execution_count": 6,
   "id": "af5c6e92",
   "metadata": {},
   "outputs": [
    {
     "data": {
      "image/png": "[encoded data removed]",
      "text/plain": [
       "<Figure size 576x432 with 1 Axes>"
      ]
     },
     "metadata": {},
     "output_type": "display_data"
    }
   ],
   "source": [
    "## taking the natural log for this column --> will be almost Normal Distribution\n",
    "df_new['DELTA'] = np.log(df_new['DELTA']+1)\n",
    "\n",
    "\n",
    "## check Distribution again\n",
    "plt.figure(figsize=(8, 6))\n",
    "sns.histplot(df_new['DELTA'], bins=30, kde=True)\n",
    "plt.title('Histogram of DELTA after taking Natural Log', fontsize=14, color='k')\n",
    "plt.xlabel('DELTA', fontsize=14, color='k')\n",
    "plt.ylabel('Frequency', fontsize=14, color='k')\n",
    "plt.show()"
   ]
  },
  {
   "cell_type": "markdown",
   "id": "8e8ef7cf",
   "metadata": {},
   "source": [
    "`Explore the (AGE) Column`"
   ]
  },
  {
   "cell_type": "code",
   "execution_count": 7,
   "id": "c2236fb8",
   "metadata": {},
   "outputs": [
    {
     "data": {
      "image/png": "[encoded data removed]",
      "text/plain": [
       "<Figure size 576x432 with 1 Axes>"
      ]
     },
     "metadata": {},
     "output_type": "display_data"
    }
   ],
   "source": [
    "## Explore the AGE Column\n",
    "plt.figure(figsize=(8, 6))\n",
    "sns.histplot(x='AGE', data=df, bins=20, kde=True)\n",
    "plt.xlabel('AGE', fontsize=14, color='k')\n",
    "plt.ylabel('Frequency', fontsize=14, color='k')\n",
    "plt.title('Histogram of AGE in The Dataset', fontsize=14, color='k')\n",
    "plt.show()"
   ]
  },
  {
   "cell_type": "markdown",
   "id": "0271328d",
   "metadata": {},
   "source": [
    ">`I will try using (box-cox) transformation for this column`"
   ]
  },
  {
   "cell_type": "markdown",
   "id": "453fa224",
   "metadata": {},
   "source": [
    "<img src='https://miro.medium.com/max/884/1*_nHvGg-OQYtNSSZph-424g.png' alt=\"boxcox\" width=400>"
   ]
  },
  {
   "cell_type": "code",
   "execution_count": 8,
   "id": "b535b35b",
   "metadata": {},
   "outputs": [
    {
     "data": {
      "image/png": "[encoded data removed]",
      "text/plain": [
       "<Figure size 576x432 with 1 Axes>"
      ]
     },
     "metadata": {},
     "output_type": "display_data"
    }
   ],
   "source": [
    "## Let's try Boxcox  ---> Normal Distribution\n",
    "df_new['AGE'] = boxcox(df_new['AGE'])[0]\n",
    "\n",
    "## Check again\n",
    "plt.figure(figsize=(8, 6))\n",
    "sns.histplot(x='AGE', data=df_new, bins=20, kde=True)\n",
    "plt.xlabel('AGE', fontsize=14, color='k')\n",
    "plt.ylabel('Frequency', fontsize=14, color='k')\n",
    "plt.title('Histogram of AGE in The Dataset after box-cox Transformation', fontsize=14, color='k')\n",
    "plt.show()"
   ]
  },
  {
   "cell_type": "markdown",
   "id": "183b6038",
   "metadata": {},
   "source": [
    "`Explore the (FC%) Column`"
   ]
  },
  {
   "cell_type": "code",
   "execution_count": 9,
   "id": "78dc5dfe",
   "metadata": {},
   "outputs": [
    {
     "data": {
      "image/png": "[encoded data removed]",
      "text/plain": [
       "<Figure size 576x432 with 1 Axes>"
      ]
     },
     "metadata": {},
     "output_type": "display_data"
    }
   ],
   "source": [
    "## Explore the AGE Column\n",
    "plt.figure(figsize=(8, 6))\n",
    "sns.histplot(x='FC%', data=df, bins=20, kde=True)\n",
    "plt.xlabel('FC%', fontsize=14, color='k')\n",
    "plt.ylabel('Frequency', fontsize=14, color='k')\n",
    "plt.title('Histogram of (FC%) in The Dataset', fontsize=14, color='k')\n",
    "plt.show()"
   ]
  },
  {
   "cell_type": "markdown",
   "id": "63d325b4",
   "metadata": {},
   "source": [
    ">`It seems that it takes (exponential Distribution) -- I tried box-cox and natural-log but none of them was useful`"
   ]
  },
  {
   "cell_type": "markdown",
   "id": "66f84438",
   "metadata": {},
   "source": [
    "> `Explore the LC(ft/mile) & TC(ft/mile) Columns, -- I tried box-cox and natural-log but none of them was useful`"
   ]
  },
  {
   "cell_type": "markdown",
   "id": "75ce3c1b",
   "metadata": {},
   "source": [
    "`Explore (RUT(in)) Column`"
   ]
  },
  {
   "cell_type": "code",
   "execution_count": 10,
   "id": "e9b3f258",
   "metadata": {},
   "outputs": [
    {
     "data": {
      "image/png": "[encoded data removed]",
      "text/plain": [
       "<Figure size 576x432 with 1 Axes>"
      ]
     },
     "metadata": {},
     "output_type": "display_data"
    }
   ],
   "source": [
    "## Let's try Box-cox Transformation --> Normal Distribution\n",
    "df_new['RUT(in)'] = boxcox(df_new['RUT(in)'])[0]\n",
    "\n",
    "\n",
    "## Explore the RUT(in) again\n",
    "plt.figure(figsize=(8, 6))\n",
    "sns.histplot(x='RUT(in)', data=df_new, bins=20, kde=True)\n",
    "plt.xlabel('RUT(in)', fontsize=14, color='k')\n",
    "plt.ylabel('Frequency', fontsize=14, color='k')\n",
    "plt.title('Histogram of (RUT(in)) in The Dataset', fontsize=14, color='k')\n",
    "plt.show()"
   ]
  },
  {
   "cell_type": "markdown",
   "id": "4f128ca8",
   "metadata": {},
   "source": [
    "`Check perason Correlation`"
   ]
  },
  {
   "cell_type": "code",
   "execution_count": 11,
   "id": "9b97187b",
   "metadata": {},
   "outputs": [
    {
     "data": {
      "image/png": "[encoded data removed]",
      "text/plain": [
       "<Figure size 720x432 with 2 Axes>"
      ]
     },
     "metadata": {},
     "output_type": "display_data"
    }
   ],
   "source": [
    "## Checking the (pearson) correlation\n",
    "plt.figure(figsize=(10, 6))\n",
    "sns.heatmap(df_new.corr(), annot=True, cmap='Blues');"
   ]
  },
  {
   "cell_type": "markdown",
   "id": "9f00f190",
   "metadata": {},
   "source": [
    "### `Split the Dataset using the ordinary Method`"
   ]
  },
  {
   "cell_type": "code",
   "execution_count": 12,
   "id": "c07b5f71",
   "metadata": {},
   "outputs": [],
   "source": [
    "## return the DELTA column with its main values without taking log\n",
    "## I will split the Data first the take log before training Models\n",
    "df_new['DELTA'] = df['DELTA']"
   ]
  },
  {
   "cell_type": "code",
   "execution_count": 13,
   "id": "87492c1f",
   "metadata": {},
   "outputs": [
    {
     "name": "stdout",
     "output_type": "stream",
     "text": [
      "X_train shape => (1363, 5)\n",
      "y_train shape => (1363,)\n",
      "==============================\n",
      "X_test shape => (341, 5)\n",
      "y_test shape => (341,)\n"
     ]
    }
   ],
   "source": [
    "## split the dataset --> make the test set work as (validation and testing) as the dataset is very small\n",
    "## It is enough to take 0.20 of the Dataset as a validation Dataset \n",
    "\n",
    "## Split to target and Features\n",
    "X = df_new.drop(columns=['DELTA'], axis=1)\n",
    "y = df_new['DELTA']\n",
    "\n",
    "## split to training and testing datasets\n",
    "X_train, X_test, y_train, y_test = train_test_split(X, y, random_state=123, test_size=0.2)\n",
    "\n",
    "\n",
    "## check shapes after splitting\n",
    "print('X_train shape =>', X_train.shape)\n",
    "print('y_train shape =>', y_train.shape)\n",
    "print('=='*15)\n",
    "print('X_test shape =>', X_test.shape)\n",
    "print('y_test shape =>', y_test.shape)"
   ]
  },
  {
   "cell_type": "markdown",
   "id": "02573a9e",
   "metadata": {},
   "source": [
    "### `Try to Standardize Data`"
   ]
  },
  {
   "cell_type": "code",
   "execution_count": 14,
   "id": "9954ea07",
   "metadata": {},
   "outputs": [],
   "source": [
    "## Scaling the Features to (mean=0, std=1) --> standard Normal Distr.\n",
    "scaler = StandardScaler()\n",
    "X_train_final = scaler.fit_transform(X_train)\n",
    "X_test_final = scaler.transform(X_test)"
   ]
  },
  {
   "cell_type": "code",
   "execution_count": 15,
   "id": "529ee34a",
   "metadata": {},
   "outputs": [],
   "source": [
    "## for target --> taking the log again, we almost ready to train Models\n",
    "y_train_final = np.log(y_train + 1)\n",
    "y_test_final = np.log(y_test + 1)"
   ]
  },
  {
   "cell_type": "markdown",
   "id": "7ac7fd27",
   "metadata": {},
   "source": [
    "### `Building ML Models`"
   ]
  },
  {
   "cell_type": "markdown",
   "id": "cdcd42dc",
   "metadata": {},
   "source": [
    "### `LinearRegression`"
   ]
  },
  {
   "cell_type": "code",
   "execution_count": 16,
   "id": "21ce76dc",
   "metadata": {},
   "outputs": [
    {
     "data": {
      "text/plain": [
       "LinearRegression()"
      ]
     },
     "execution_count": 16,
     "metadata": {},
     "output_type": "execute_result"
    }
   ],
   "source": [
    "## Try simple LinearRegression\n",
    "lin_reg = LinearRegression(fit_intercept=True)\n",
    "lin_reg.fit(X_train_final, y_train_final)"
   ]
  },
  {
   "cell_type": "code",
   "execution_count": 17,
   "id": "2ec2784b",
   "metadata": {},
   "outputs": [
    {
     "name": "stdout",
     "output_type": "stream",
     "text": [
      "score_train_lin : 0.24155870773235388\n",
      "score_test_lin : 0.19415768900382224\n"
     ]
    }
   ],
   "source": [
    "## Predicted values using LinearRegression\n",
    "y_pred_train_lin = np.exp(lin_reg.predict(X_train_final)) - 1\n",
    "y_pred_test_lin = np.exp(lin_reg.predict(X_test_final)) - 1\n",
    "\n",
    "score_train_lin = r2_score(y_train, y_pred_train_lin)\n",
    "score_test_lin = r2_score(y_test, y_pred_test_lin)\n",
    "\n",
    "print('score_train_lin :', score_train_lin)\n",
    "print('score_test_lin :', score_test_lin)"
   ]
  },
  {
   "cell_type": "markdown",
   "id": "3dbf5da3",
   "metadata": {},
   "source": [
    "### `SGD Regressor`"
   ]
  },
  {
   "cell_type": "code",
   "execution_count": 18,
   "id": "e0f90274",
   "metadata": {},
   "outputs": [
    {
     "data": {
      "text/plain": [
       "SGDRegressor()"
      ]
     },
     "execution_count": 18,
     "metadata": {},
     "output_type": "execute_result"
    }
   ],
   "source": [
    "## Try SGD Regression\n",
    "sgd_reg = SGDRegressor()\n",
    "sgd_reg.fit(X_train_final, y_train_final)"
   ]
  },
  {
   "cell_type": "code",
   "execution_count": 19,
   "id": "cd7d2041",
   "metadata": {
    "scrolled": true
   },
   "outputs": [
    {
     "name": "stdout",
     "output_type": "stream",
     "text": [
      "score_train_sgd : 0.24141233605291612\n",
      "score_test_sgd : 0.19321830278132834\n"
     ]
    }
   ],
   "source": [
    "## Predicted values using LinearRegression\n",
    "y_pred_train_sgd = np.exp(sgd_reg.predict(X_train_final)) - 1\n",
    "y_pred_test_sgd = np.exp(sgd_reg.predict(X_test_final)) - 1\n",
    "\n",
    "score_train_sgd = r2_score(y_train, y_pred_train_sgd)\n",
    "score_test_sgd = r2_score(y_test, y_pred_test_sgd)\n",
    "\n",
    "print('score_train_sgd :', score_train_sgd)\n",
    "print('score_test_sgd :', score_test_sgd)"
   ]
  },
  {
   "cell_type": "markdown",
   "id": "09f96c68",
   "metadata": {},
   "source": [
    "### `Try KNN`"
   ]
  },
  {
   "cell_type": "code",
   "execution_count": 20,
   "id": "87c9be4c",
   "metadata": {},
   "outputs": [
    {
     "data": {
      "text/plain": [
       "KNeighborsRegressor()"
      ]
     },
     "execution_count": 20,
     "metadata": {},
     "output_type": "execute_result"
    }
   ],
   "source": [
    "## Define the Model\n",
    "knn_reg = KNeighborsRegressor(n_neighbors=5)\n",
    "knn_reg.fit(X_train_final, y_train_final)"
   ]
  },
  {
   "cell_type": "code",
   "execution_count": 21,
   "id": "4a934657",
   "metadata": {},
   "outputs": [
    {
     "name": "stdout",
     "output_type": "stream",
     "text": [
      "score_train_knn : 0.6363818145532818\n",
      "score_test_knn : 0.4425114805653467\n"
     ]
    }
   ],
   "source": [
    "## Predicted values using KNN\n",
    "y_pred_train_knn = np.exp(knn_reg.predict(X_train_final)) - 1\n",
    "y_pred_test_knn = np.exp(knn_reg.predict(X_test_final)) - 1\n",
    "\n",
    "score_train_knn = r2_score(y_train, y_pred_train_knn)\n",
    "score_test_knn = r2_score(y_test, y_pred_test_knn)\n",
    "\n",
    "print('score_train_knn :', score_train_knn)\n",
    "print('score_test_knn :', score_test_knn)"
   ]
  },
  {
   "cell_type": "code",
   "execution_count": 22,
   "id": "b74ad07d",
   "metadata": {},
   "outputs": [
    {
     "name": "stdout",
     "output_type": "stream",
     "text": [
      "Best Parameters:  {'n_neighbors': 3}\n",
      "Best Model KNN:  KNeighborsRegressor(n_neighbors=3)\n"
     ]
    }
   ],
   "source": [
    "## Tuning\n",
    "params_best_knn = {'n_neighbors': np.arange(1, 10, 2)}\n",
    "\n",
    "grid_knn = GridSearchCV(estimator=knn_reg, param_grid=params_best_knn, cv=5, scoring='r2', n_jobs=-1)\n",
    "grid_knn.fit(X_train_final, y_train_final)\n",
    "\n",
    "print('Best Parameters: ', grid_knn.best_params_)\n",
    "\n",
    "## best Model with best parameters\n",
    "best_knn = grid_knn.best_estimator_\n",
    "print('Best Model KNN: ', best_knn)"
   ]
  },
  {
   "cell_type": "code",
   "execution_count": 23,
   "id": "cfaaf880",
   "metadata": {},
   "outputs": [
    {
     "name": "stdout",
     "output_type": "stream",
     "text": [
      "score_train_knn : 0.7596133143183311\n",
      "score_test_knn : 0.4567563446624976\n"
     ]
    }
   ],
   "source": [
    "## Predicted values using KNN\n",
    "y_pred_train_knn = np.exp(best_knn.predict(X_train_final)) - 1\n",
    "y_pred_test_knn = np.exp(best_knn.predict(X_test_final)) - 1\n",
    "\n",
    "score_train_knn = r2_score(y_train, y_pred_train_knn)\n",
    "score_test_knn = r2_score(y_test, y_pred_test_knn)\n",
    "\n",
    "print('score_train_knn :', score_train_knn)\n",
    "print('score_test_knn :', score_test_knn)"
   ]
  },
  {
   "cell_type": "markdown",
   "id": "475b814d",
   "metadata": {},
   "source": [
    "### `Try RandomForest`"
   ]
  },
  {
   "cell_type": "code",
   "execution_count": 24,
   "id": "ed1954c6",
   "metadata": {},
   "outputs": [
    {
     "data": {
      "text/plain": [
       "RandomForestRegressor(max_depth=20, n_estimators=200)"
      ]
     },
     "execution_count": 24,
     "metadata": {},
     "output_type": "execute_result"
    }
   ],
   "source": [
    "## Define the Model\n",
    "forest_reg = RandomForestRegressor(n_estimators=200, max_depth=20)\n",
    "forest_reg.fit(X_train_final, y_train_final)"
   ]
  },
  {
   "cell_type": "code",
   "execution_count": 25,
   "id": "39a21184",
   "metadata": {},
   "outputs": [
    {
     "name": "stdout",
     "output_type": "stream",
     "text": [
      "score_train_forest : 0.8816673963296628\n",
      "score_test_forest : 0.578967053375808\n"
     ]
    }
   ],
   "source": [
    "## Predicted values using RandomForest\n",
    "y_pred_train_forest = np.exp(forest_reg.predict(X_train_final)) - 1\n",
    "y_pred_test_forest = np.exp(forest_reg.predict(X_test_final)) - 1\n",
    "\n",
    "score_train_forest = r2_score(y_train, y_pred_train_forest)\n",
    "score_test_forest = r2_score(y_test, y_pred_test_forest)\n",
    "\n",
    "print('score_train_forest :', score_train_forest)\n",
    "print('score_test_forest :', score_test_forest)"
   ]
  },
  {
   "cell_type": "code",
   "execution_count": 26,
   "id": "d8ad25f7",
   "metadata": {},
   "outputs": [
    {
     "name": "stdout",
     "output_type": "stream",
     "text": [
      "Fitting 5 folds for each of 40 candidates, totalling 200 fits\n",
      "Best Parameters:  {'max_depth': 19, 'n_estimators': 120}\n",
      "Best Model Forest:  RandomForestRegressor(max_depth=19, n_estimators=120)\n"
     ]
    }
   ],
   "source": [
    "params_best_forest = {'n_estimators': np.arange(100, 200, 20),\n",
    "                    'max_depth': np.arange(15, 30, 2)}\n",
    "\n",
    "grid_forest = GridSearchCV(estimator=forest_reg, param_grid=params_best_forest, cv=5, scoring='r2', n_jobs=-1, verbose=6)\n",
    "grid_forest.fit(X_train_final, y_train_final)\n",
    "\n",
    "print('Best Parameters: ', grid_forest.best_params_)\n",
    "\n",
    "## best Model with best parameters\n",
    "best_forest = grid_forest.best_estimator_\n",
    "print('Best Model Forest: ', best_forest)"
   ]
  },
  {
   "cell_type": "code",
   "execution_count": 27,
   "id": "dab2f9c4",
   "metadata": {},
   "outputs": [
    {
     "name": "stdout",
     "output_type": "stream",
     "text": [
      "score_train_forest : 0.8808451041808271\n",
      "score_test_forest : 0.5817139850686336\n"
     ]
    }
   ],
   "source": [
    "## Predicted values using RandomForest\n",
    "y_pred_train_forest = np.exp(best_forest.predict(X_train_final)) - 1\n",
    "y_pred_test_forest = np.exp(best_forest.predict(X_test_final)) - 1\n",
    "\n",
    "score_train_forest = r2_score(y_train, y_pred_train_forest)\n",
    "score_test_forest = r2_score(y_test, y_pred_test_forest)\n",
    "\n",
    "print('score_train_forest :', score_train_forest)\n",
    "print('score_test_forest :', score_test_forest)"
   ]
  },
  {
   "cell_type": "markdown",
   "id": "461f8abc",
   "metadata": {},
   "source": [
    "### `Xgboost`"
   ]
  },
  {
   "cell_type": "code",
   "execution_count": 28,
   "id": "0a82a36f",
   "metadata": {},
   "outputs": [
    {
     "data": {
      "text/plain": [
       "XGBRegressor(base_score=0.5, booster='gbtree', colsample_bylevel=1,\n",
       "             colsample_bynode=1, colsample_bytree=1, enable_categorical=False,\n",
       "             gamma=0, gpu_id=-1, importance_type=None,\n",
       "             interaction_constraints='', learning_rate=0.1, max_delta_step=0,\n",
       "             max_depth=5, min_child_weight=1, missing=nan,\n",
       "             monotone_constraints='()', n_estimators=300, n_jobs=8,\n",
       "             num_parallel_tree=1, predictor='auto', random_state=0, reg_alpha=0,\n",
       "             reg_lambda=2, scale_pos_weight=1, subsample=0.9,\n",
       "             tree_method='exact', validate_parameters=1, verbosity=None)"
      ]
     },
     "execution_count": 28,
     "metadata": {},
     "output_type": "execute_result"
    }
   ],
   "source": [
    "xgb_reg = XGBRegressor(max_depth=5, learning_rate=0.1, n_estimators=300, reg_lambda=2, subsample=0.9)\n",
    "xgb_reg.fit(X_train_final, y_train_final)"
   ]
  },
  {
   "cell_type": "code",
   "execution_count": 29,
   "id": "c08f5a78",
   "metadata": {},
   "outputs": [
    {
     "name": "stdout",
     "output_type": "stream",
     "text": [
      "score_train_xgb : 0.9334560541314906\n",
      "score_test_xgb : 0.67459533544896\n"
     ]
    }
   ],
   "source": [
    "## Predicted values using Xgboost\n",
    "y_pred_train_xgb = np.exp(xgb_reg.predict(X_train_final)) - 1\n",
    "y_pred_test_xgb = np.exp(xgb_reg.predict(X_test_final)) - 1\n",
    "\n",
    "score_train_xgb = r2_score(y_train, y_pred_train_xgb)\n",
    "score_test_xgb = r2_score(y_test, y_pred_test_xgb)\n",
    "\n",
    "print('score_train_xgb :', score_train_xgb)\n",
    "print('score_test_xgb :', score_test_xgb)"
   ]
  },
  {
   "cell_type": "code",
   "execution_count": 30,
   "id": "b4d76a58",
   "metadata": {},
   "outputs": [
    {
     "name": "stdout",
     "output_type": "stream",
     "text": [
      "Fitting 5 folds for each of 24 candidates, totalling 120 fits\n",
      "Best Parameters:  {'learning_rate': 0.18, 'max_depth': 4, 'n_estimators': 200, 'subsample': 0.9}\n",
      "Best Model Xgboost:  XGBRegressor(base_score=0.5, booster='gbtree', colsample_bylevel=1,\n",
      "             colsample_bynode=1, colsample_bytree=1, enable_categorical=False,\n",
      "             gamma=0, gpu_id=-1, importance_type=None,\n",
      "             interaction_constraints='', learning_rate=0.18, max_delta_step=0,\n",
      "             max_depth=4, min_child_weight=1, missing=nan,\n",
      "             monotone_constraints='()', n_estimators=200, n_jobs=8,\n",
      "             num_parallel_tree=1, predictor='auto', random_state=0, reg_alpha=0,\n",
      "             reg_lambda=2, scale_pos_weight=1, subsample=0.9,\n",
      "             tree_method='exact', validate_parameters=1, verbosity=None)\n"
     ]
    }
   ],
   "source": [
    "## Tuning xgboost\n",
    "params_best_xgb = {'max_depth': [4, 6], \n",
    "                  'learning_rate': [0.15, 0.18], \n",
    "                  'n_estimators': [100, 150, 200],\n",
    "                  'subsample': [0.9, 1]}\n",
    "\n",
    "\n",
    "grid_xgb = GridSearchCV(estimator=xgb_reg, param_grid=params_best_xgb, cv=5, scoring='r2', n_jobs=-1, verbose=6)\n",
    "grid_xgb.fit(X_train_final, y_train_final)\n",
    "\n",
    "print('Best Parameters: ', grid_xgb.best_params_)\n",
    "\n",
    "## best Model with best parameters\n",
    "best_xgb = grid_xgb.best_estimator_\n",
    "print('Best Model Xgboost: ', best_xgb)"
   ]
  },
  {
   "cell_type": "code",
   "execution_count": 31,
   "id": "8589b8d9",
   "metadata": {},
   "outputs": [
    {
     "name": "stdout",
     "output_type": "stream",
     "text": [
      "score_train_xgb : 0.8925320993598865\n",
      "score_test_xgb : 0.6534438198579553\n"
     ]
    }
   ],
   "source": [
    "## Predicted values using Xgboost\n",
    "y_pred_train_xgb = np.exp(best_xgb.predict(X_train_final)) - 1\n",
    "y_pred_test_xgb = np.exp(best_xgb.predict(X_test_final)) - 1\n",
    "\n",
    "score_train_xgb = r2_score(y_train, y_pred_train_xgb)\n",
    "score_test_xgb = r2_score(y_test, y_pred_test_xgb)\n",
    "\n",
    "print('score_train_xgb :', score_train_xgb)\n",
    "print('score_test_xgb :', score_test_xgb)"
   ]
  },
  {
   "cell_type": "markdown",
   "id": "a450b529",
   "metadata": {},
   "source": [
    "### `Finally, I will use Xgboost as my Evaluation Model`"
   ]
  },
  {
   "cell_type": "markdown",
   "id": "16547f55",
   "metadata": {},
   "source": [
    "----"
   ]
  },
  {
   "cell_type": "markdown",
   "id": "e97c20ae",
   "metadata": {},
   "source": [
    "### `inference on train, test and total Dataset`"
   ]
  },
  {
   "cell_type": "code",
   "execution_count": 32,
   "id": "9053bbc4",
   "metadata": {},
   "outputs": [
    {
     "name": "stdout",
     "output_type": "stream",
     "text": [
      "r2 score on test Dataset is : 0.67459533544896\n"
     ]
    }
   ],
   "source": [
    "## Inference on test Dataset\n",
    "y_pred_test = xgb_reg.predict(X_test_final)   ## remember, we took the log(value+1) --> take the exp()-1\n",
    "y_pred_test = np.exp(y_pred_test) - 1\n",
    "\n",
    "## get the score --> comparing the true with predicted\n",
    "score_test = r2_score(y_test, y_pred_test)\n",
    "print('r2 score on test Dataset is :', score_test)"
   ]
  },
  {
   "cell_type": "code",
   "execution_count": 33,
   "id": "d343e2a6",
   "metadata": {},
   "outputs": [
    {
     "name": "stdout",
     "output_type": "stream",
     "text": [
      "r2 score on Total Dataset is : 0.8805692787828848\n"
     ]
    }
   ],
   "source": [
    "## concatenate the train and test Datasets after processing for Features\n",
    "X_total = np.vstack((X_train_final, X_test_final))\n",
    "## concatenate the train and test Datasets after processing for target (DELTA)\n",
    "y_total = np.vstack((y_train.values.reshape(-1, 1), y_test.values.reshape(-1, 1)))\n",
    "\n",
    "## Inference on total Dataset\n",
    "y_pred_total = xgb_reg.predict(X_total)   ## remember, we took the log(value+1) --> take the exp()-1\n",
    "y_pred_total = np.exp(y_pred_total) - 1\n",
    "\n",
    "## get the score --> comparing the true with predicted\n",
    "score_total = r2_score(y_total, y_pred_total)\n",
    "print('r2 score on Total Dataset is :', score_total)"
   ]
  },
  {
   "cell_type": "markdown",
   "id": "65876ed7",
   "metadata": {},
   "source": [
    "### `Download the Model`"
   ]
  },
  {
   "cell_type": "code",
   "execution_count": 35,
   "id": "933cc16b",
   "metadata": {},
   "outputs": [
    {
     "data": {
      "text/plain": [
       "['xgboost_model.pkl']"
      ]
     },
     "execution_count": 35,
     "metadata": {},
     "output_type": "execute_result"
    }
   ],
   "source": [
    "## Download the Model\n",
    "joblib.dump(xgb_reg, 'xgboost_model.pkl')"
   ]
  },
  {
   "cell_type": "markdown",
   "id": "d0816cf5",
   "metadata": {},
   "source": [
    "-----"
   ]
  },
  {
   "cell_type": "markdown",
   "id": "419b3a6f",
   "metadata": {},
   "source": [
    "----"
   ]
  },
  {
   "cell_type": "markdown",
   "id": "f55b49ff",
   "metadata": {},
   "source": [
    "### `The Processing PipeLine`\n",
    "`For Features`\n",
    "* `1. (AGE) Column : Applying box-cox Transformation`\n",
    "* `2. (RUT(in)) Column : Applying box-cox Transformation`\n",
    "* `3. For all Features (All Columns except the Target (DELTA)) : Using Standard Scaler to convert the Distr. to mean=0, std=1`\n",
    "\n",
    "`For target (DELTA)`\n",
    "* `The Model predicted the values at log scale, you MUST take the exponential values for the output and then subtract by 1`"
   ]
  },
  {
   "cell_type": "markdown",
   "id": "fe9a26da",
   "metadata": {},
   "source": [
    "### `For Further Improvement`\n",
    "* `Increase the instances in the Dataset`\n",
    "* `Try to get some new columns which are more correlated with the target, it required some Domain Knowledge`"
   ]
  },
  {
   "cell_type": "markdown",
   "id": "c54ccd41",
   "metadata": {},
   "source": [
    "### Done!"
   ]
  }
 ],
 "metadata": {
  "kernelspec": {
   "display_name": "Python 3 (ipykernel)",
   "language": "python",
   "name": "python3"
  },
  "language_info": {
   "codemirror_mode": {
    "name": "ipython",
    "version": 3
   },
   "file_extension": ".py",
   "mimetype": "text/x-python",
   "name": "python",
   "nbconvert_exporter": "python",
   "pygments_lexer": "ipython3",
   "version": "3.9.7"
  }
 },
 "nbformat": 4,
 "nbformat_minor": 5
}
